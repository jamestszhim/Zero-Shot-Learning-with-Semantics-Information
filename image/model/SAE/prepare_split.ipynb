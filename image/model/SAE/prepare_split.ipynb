{
 "cells": [
  {
   "cell_type": "code",
   "execution_count": 2,
   "metadata": {},
   "outputs": [],
   "source": [
    "import numpy as np\n",
    "import pandas as pd"
   ]
  },
  {
   "cell_type": "code",
   "execution_count": 4,
   "metadata": {},
   "outputs": [
    {
     "name": "stdout",
     "output_type": "stream",
     "text": [
      "[0.22020529 0.52877251 0.44712103 0.10824295 0.45480529 0.\n",
      " 0.         0.         0.21106533 0.0625     0.06322072 1.\n",
      " 0.         0.07311688 0.06606765 0.48832074 0.40107212 0.19787697\n",
      " 0.         0.         0.         1.         0.90337403 0.10582074\n",
      " 0.09047668 0.75656031 0.47419654 0.48043782 0.         0.\n",
      " 0.         0.7419054  0.         0.0786     0.         0.07135518\n",
      " 0.06834336 0.         0.83257288 0.29579507 0.67229582 0.14169858\n",
      " 0.48125815 0.15180957 0.10901163 0.74325843 0.14968068 0.91458411\n",
      " 0.10671657 0.01811005 0.48319774 0.47953918 0.33172358 0.\n",
      " 0.08006662 0.10768899 0.08115829 0.07944579 0.12928294 0.08348398\n",
      " 0.         0.1035313  0.60258502 0.57905025 0.         0.02349958\n",
      " 0.27777778 0.09602089 0.15325392 0.11602067 0.13929284 0.06794955\n",
      " 0.09301979 0.         0.56226326 0.01389661 0.03244838 0.\n",
      " 0.16680587 0.64735516 0.39505356 0.07754342 0.61543635 0.1638796\n",
      " 0.87229204]\n"
     ]
    }
   ],
   "source": [
    "test = np.load(\"data/AWA2_test_continuous_01_attributelabel.npy\")\n",
    "print(test[0])"
   ]
  },
  {
   "cell_type": "code",
   "execution_count": 6,
   "metadata": {},
   "outputs": [],
   "source": [
    "predicate_labels_cont = np.loadtxt(\"../food_label_vector.txt\")\n",
    "#print(predicate_labels_cont[0])\n",
    "#normalization\n",
    "pred_normed = predicate_labels_cont / predicate_labels_cont.max(axis=0)\n",
    "np.savetxt(\"../food-label-vector-normed.txt\", pred_normed)"
   ]
  },
  {
   "cell_type": "code",
   "execution_count": 18,
   "metadata": {
    "scrolled": true
   },
   "outputs": [
    {
     "name": "stdout",
     "output_type": "stream",
     "text": [
      "37322\n"
     ]
    }
   ],
   "source": [
    "#split classes, create attribute lable\n",
    "#check labels:\n",
    "labels = np.loadtxt(\"../../AwA2-features/ResNet101/AwA2-labels.txt\")\n",
    "print(labels.shape[0])\n",
    "for i in range(labels.shape[0]):\n",
    "    "
   ]
  },
  {
   "cell_type": "code",
   "execution_count": 5,
   "metadata": {},
   "outputs": [
    {
     "name": "stdout",
     "output_type": "stream",
     "text": [
      "(10, 85)\n"
     ]
    }
   ],
   "source": [
    "# 提取binary test label(10x85):\n",
    "test = np.load(\"data/AWA2_test_attributlabel.npy\")\n",
    "ret = []\n",
    "labels = [5, 13, 14, 17, 23, 24, 33, 38, 41, 47]\n",
    "for idx in labels:\n",
    "    ret.append(test[idx])\n",
    "ret = np.array(ret)\n",
    "print(ret.shape)\n",
    "np.save(\"data/bi_te_att_10_85.npy\", ret)"
   ]
  },
  {
   "cell_type": "code",
   "execution_count": 13,
   "metadata": {},
   "outputs": [
    {
     "name": "stdout",
     "output_type": "stream",
     "text": [
      "[[0.    0.562 0.385 0.439 0.427 0.379 0.37  0.391 0.563 0.366 0.363]\n",
      " [0.    0.    0.591 0.528 0.67  0.372 0.668 0.548 0.54  0.644 0.439]\n",
      " [0.    0.    0.    0.572 0.509 0.552 0.436 0.559 0.513 0.394 0.406]\n",
      " [0.    0.    0.    0.    0.483 0.43  0.462 0.479 0.609 0.459 0.436]\n",
      " [0.    0.    0.    0.    0.    0.419 0.377 0.381 0.421 0.407 0.51 ]\n",
      " [0.    0.    0.    0.    0.    0.    0.41  0.425 0.37  0.404 0.352]\n",
      " [0.    0.    0.    0.    0.    0.    0.    0.368 0.376 0.224 0.418]\n",
      " [0.    0.    0.    0.    0.    0.    0.    0.    0.499 0.372 0.37 ]\n",
      " [0.    0.    0.    0.    0.    0.    0.    0.    0.    0.439 0.472]\n",
      " [0.    0.    0.    0.    0.    0.    0.    0.    0.    0.    0.391]\n",
      " [0.    0.    0.    0.    0.    0.    0.    0.    0.    0.    0.   ]]\n"
     ]
    }
   ],
   "source": [
    "#word vector的consine distance有多少？\n",
    "gt = np.loadtxt(\"../food_label_vector.txt\")\n",
    "\n",
    "dist_list = np.zeros((11,11), dtype = float)\n",
    "labels = []\n",
    "for i in range(gt.shape[0]):\n",
    "    for j in range (i + 1, gt.shape[0]):\n",
    "        dist = 1 - np.dot(gt[i],gt[j].transpose())/(np.linalg.norm(gt[i])*np.linalg.norm(gt[j]))\n",
    "        dist_list[i][j] = dist\n",
    "dist_list = np.around(dist_list, decimals=3)\n",
    "np.set_printoptions(threshold=10000)\n",
    "print(dist_list)\n"
   ]
  },
  {
   "cell_type": "code",
   "execution_count": null,
   "metadata": {},
   "outputs": [],
   "source": []
  }
 ],
 "metadata": {
  "kernelspec": {
   "display_name": "Python 3",
   "language": "python",
   "name": "python3"
  },
  "language_info": {
   "codemirror_mode": {
    "name": "ipython",
    "version": 3
   },
   "file_extension": ".py",
   "mimetype": "text/x-python",
   "name": "python",
   "nbconvert_exporter": "python",
   "pygments_lexer": "ipython3",
   "version": "3.5.5"
  },
  "widgets": {
   "state": {},
   "version": "1.1.2"
  }
 },
 "nbformat": 4,
 "nbformat_minor": 2
}
