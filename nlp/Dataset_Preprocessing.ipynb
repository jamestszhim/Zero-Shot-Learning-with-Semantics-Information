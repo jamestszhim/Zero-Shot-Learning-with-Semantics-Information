{
 "cells": [
  {
   "cell_type": "code",
   "execution_count": 25,
   "metadata": {},
   "outputs": [],
   "source": [
    "import pandas as pd\n",
    "import re\n",
    "import numpy as np\n",
    "from nltk import word_tokenize"
   ]
  },
  {
   "cell_type": "markdown",
   "metadata": {},
   "source": [
    "## Load dataset"
   ]
  },
  {
   "cell_type": "code",
   "execution_count": 26,
   "metadata": {},
   "outputs": [],
   "source": [
    "root = 'Dataset/emotion/'\n",
    "\n",
    "train_0_df_raw = pd.read_csv(root+'raw/train_0.txt', sep='\\t', header=None, names=['label', 'source', 'sentence']) \n",
    "train_1_df_raw = pd.read_csv(root+'raw/train_1.txt', sep='\\t', header=None, names=['label', 'source', 'sentence']) \n",
    "test_df_raw = pd.read_csv(root+'raw/test.txt', sep='\\t', header=None, names=['label', 'source', 'sentence']) \n",
    "dev_df_raw = pd.read_csv(root+'raw/dev.txt', sep='\\t', header=None, names=['label', 'source', 'sentence']) "
   ]
  },
  {
   "cell_type": "code",
   "execution_count": 27,
   "metadata": {},
   "outputs": [
    {
     "name": "stdout",
     "output_type": "stream",
     "text": [
      "@PressSec sounds so defensive  &amp; combative whenever he is asked a question by the press. Why is that? #Sad\n",
      "RT @daveweigel: Hypocrisy and politics go hand in hand, but the \"no time for CBO score, go go go\" approach to AHCA really betrays 7 years o…\n",
      "RT @DavidCornDC: This may be outrageous. It is not surprising. No one should pretend it is. https://t.co/lA5GSpZByT\n",
      "RT @DavidCornDC: If only we could catch Trump on video saying what he really thinks about women!\n",
      "#Cheers &amp; #Happy #InternationalWomensDay from all of us at #Columbia Wine Co.  #love #respect #wine #dranks… https://t.co/2m2KOqMb2c\n",
      "#happy #wednesday #evening with #fashion #elegance #style #design in #black &amp; #white made by… https://t.co/BIWamXkmyQ\n",
      "#happy #wednesday #evening with #fashion #elegance #style #design in #black &amp; #white made by… https://t.co/BaWUPrc5ui\n",
      "#happy #wednesday #evening with #fashion #elegance #style #design in #black &amp; #white made by… https://t.co/o7k6KpTyBj\n",
      "#happy #wednesday #evening with #fashion #elegance #style #design in #black &amp; #white made by… https://t.co/QEWOt9kEE5\n",
      "#happy #wednesday #evening with #fashion #elegance #style #design in #black &amp; #white made by… https://t.co/kArvuDcmaI\n",
      "#happy #wednesday #evening with #fashion #elegance #style #design in #black &amp; #white made by… https://t.co/tX6kLP2dFJ\n",
      "Sandhy Sondoro &amp; Bastian Lee Jones on Radio Paradiso 98.2 for Berlin oncert on 19th of March https://t.co/qOhQ5L4qOG\n",
      "The Chemical Brothers - Galvanize https://t.co/vUwczAbKfW via @YouTube\n",
      "The Chemical Brothers - Go https://t.co/UtUWIF7Y0G via @YouTube\n",
      "Bye bye #newyork ❤️😎 Thanks for everything 😃#travel #newyorkcity #happy @ John F. Kennedy… https://t.co/Wq4pNFShI6\n",
      "Never a dull night in #dc - #happy #instagood #instalike #instadaily #photooftheday #igers… https://t.co/NbBCwl7nSE\n",
      "Natural lighting 💁🏻•••#internationalwomensday #happy #smile #snapchat #ombre #latergram… https://t.co/SwwZfrRSnb\n",
      "Sretan 8mi MartHappy International Women's Day #happy #InternationalWomensDay #sretan8mimart #womensday https://t.co/QpSLuSAC5Z\n",
      "Roller Luggage: How Does It Work. Now playing on the E Train. #SAD\n",
      "The Sun is Shinning On Me 😎🙌🏻🙏🏻🌞 #happy #love #family #thanksgod… https://t.co/uxCwdm5ilW\n"
     ]
    }
   ],
   "source": [
    "print('\\n'.join([i for i in test_df_raw[test_df_raw['source']=='tweets']['sentence'].iloc[:20]]))"
   ]
  },
  {
   "cell_type": "markdown",
   "metadata": {},
   "source": [
    "# combine dataset"
   ]
  },
  {
   "cell_type": "code",
   "execution_count": 44,
   "metadata": {},
   "outputs": [
    {
     "data": {
      "text/plain": [
       "(57834, 3)"
      ]
     },
     "execution_count": 44,
     "metadata": {},
     "output_type": "execute_result"
    }
   ],
   "source": [
    "all_df = pd.concat([train_0_df_raw, train_1_df_raw, test_df_raw, dev_df_raw])\n",
    "all_df.shape"
   ]
  },
  {
   "cell_type": "markdown",
   "metadata": {},
   "source": [
    "## drop noemo examples"
   ]
  },
  {
   "cell_type": "code",
   "execution_count": 45,
   "metadata": {},
   "outputs": [
    {
     "data": {
      "text/plain": [
       "(54956, 3)"
      ]
     },
     "execution_count": 45,
     "metadata": {},
     "output_type": "execute_result"
    }
   ],
   "source": [
    "all_df = all_df[all_df['label']!='noemo']\n",
    "all_df.shape"
   ]
  },
  {
   "cell_type": "markdown",
   "metadata": {},
   "source": [
    "## clean tweet and drop empty row"
   ]
  },
  {
   "cell_type": "code",
   "execution_count": null,
   "metadata": {},
   "outputs": [],
   "source": [
    "def clearn_tweet(text):\n",
    "    #text = re.sub(r\"#(\\w+)\", ' ', text, flags=re.MULTILINE)\n",
    "    text = re.sub(r\"@(\\w+)\", ' ', text, flags=re.MULTILINE)\n",
    "    #text = re.sub(r'https?:\\/\\/(www\\.)?[-a-zA-Z0–9@:%._\\+~#=]{2,256}\\.[a-z]{2,6}\\b([-a-zA-Z0–9@:%_\\+.~#?&//=]*)', '', text, flags=re.MULTILINE)\n",
    "    #text = re.sub(r'[-a-zA-Z0–9@:%._\\+~#=]{2,256}\\.[a-z]{2,6}\\b([-a-zA-Z0–9@:%_\\+.~#?&//=]*)', '', text, flags=re.MULTILINE)\n",
    "    text = re.sub(r\"http\\S+\", \"\", text)\n",
    "    text = re.sub(r\"&amp\", \"\", text)\n",
    "    return text.strip()"
   ]
  },
  {
   "cell_type": "code",
   "execution_count": 46,
   "metadata": {},
   "outputs": [
    {
     "data": {
      "text/plain": [
       "(54947, 3)"
      ]
     },
     "execution_count": 46,
     "metadata": {},
     "output_type": "execute_result"
    }
   ],
   "source": [
    "all_df['sentence']= [clearn_tweet(i) for i in all_df['sentence']]\n",
    "all_df['sentence'].replace('', np.nan, inplace=True)\n",
    "all_df.dropna(subset=['sentence'], inplace=True)\n",
    "all_df.shape"
   ]
  },
  {
   "cell_type": "code",
   "execution_count": 48,
   "metadata": {
    "collapsed": true,
    "jupyter": {
     "outputs_hidden": true
    }
   },
   "outputs": [
    {
     "name": "stdout",
     "output_type": "stream",
     "text": [
      "2737 \n",
      " Headache \n",
      "\n",
      "2772 \n",
      " headache \n",
      "\n",
      "3873 \n",
      " sorry \n",
      "\n",
      "4108 \n",
      " yeah \n",
      "\n",
      "5096 \n",
      " Headache \n",
      "\n",
      "6251 \n",
      " BRAINFREEZE \n",
      "\n",
      "6522 \n",
      " lame \n",
      "\n",
      "6771 \n",
      " sadface \n",
      "\n",
      "7568 \n",
      " Damn \n",
      "\n",
      "8357 \n",
      " ME \n",
      "\n",
      "8516 \n",
      " lonely \n",
      "\n",
      "9076 \n",
      " FAIL \n",
      "\n",
      "9155 \n",
      " courgette \n",
      "\n",
      "9397 \n",
      " ... \n",
      "\n",
      "9459 \n",
      " Chilliin \n",
      "\n",
      "9501 \n",
      " Thanks \n",
      "\n",
      "9668 \n",
      " woot \n",
      "\n",
      "9732 \n",
      " TEAR* \n",
      "\n",
      "9849 \n",
      " Goodmorning \n",
      "\n",
      "9948 \n",
      " thanks \n",
      "\n",
      "9996 \n",
      " thankyou \n",
      "\n",
      "10437 \n",
      " together \n",
      "\n",
      "10779 \n",
      " speechless \n",
      "\n",
      "10972 \n",
      " iloveyoumoreeee \n",
      "\n",
      "11877 \n",
      " awe \n",
      "\n",
      "12203 \n",
      " yeah \n",
      "\n",
      "12275 \n",
      " Memories \n",
      "\n",
      "12656 \n",
      " anytime \n",
      "\n",
      "12982 \n",
      " okey \n",
      "\n",
      "13004 \n",
      " Thanks \n",
      "\n",
      "13187 \n",
      " awesomeness \n",
      "\n",
      "13353 \n",
      " thanks \n",
      "\n",
      "13366 \n",
      " Thanks \n",
      "\n",
      "13370 \n",
      " Thanks \n",
      "\n",
      "13439 \n",
      " boffert \n",
      "\n",
      "13549 \n",
      " hii \n",
      "\n",
      "13607 \n",
      " Thanks \n",
      "\n",
      "15726 \n",
      " revenge \n",
      "\n",
      "16144 \n",
      " resent \n",
      "\n",
      "16596 \n",
      " testing \n",
      "\n",
      "16737 \n",
      " terrible \n",
      "\n",
      "17147 \n",
      " alarming \n",
      "\n",
      "17528 \n",
      " shocking \n",
      "\n",
      "17672 \n",
      " bully \n",
      "\n",
      "19480 \n",
      " depressing \n",
      "\n",
      "23271 \n",
      " Absolutely \n",
      "\n",
      "23426 \n",
      " thanks \n",
      "\n",
      "23580 \n",
      " morning \n",
      "\n",
      "23937 \n",
      " morning \n",
      "\n",
      "24096 \n",
      " Thanks \n",
      "\n",
      "24322 \n",
      " thanks \n",
      "\n",
      "24496 \n",
      " Thx \n",
      "\n",
      "24673 \n",
      " Thanks \n",
      "\n",
      "24880 \n",
      " thanks \n",
      "\n",
      "24934 \n",
      " Goooooodmorning \n",
      "\n",
      "25119 \n",
      " Hey \n",
      "\n",
      "25213 \n",
      " Hahaaaha \n",
      "\n",
      "25590 \n",
      " grax \n",
      "\n",
      "25733 \n",
      " Thanks \n",
      "\n",
      "25873 \n",
      " Goodmorning \n",
      "\n",
      "26501 \n",
      " Hehe \n",
      "\n",
      "26514 \n",
      " yeahh \n",
      "\n",
      "26697 \n",
      " Relaxing \n",
      "\n",
      "26773 \n",
      " good \n",
      "\n",
      "26787 \n",
      " Wedding.. \n",
      "\n",
      "27275 \n",
      " Pinkberry \n",
      "\n",
      "28032 \n",
      " awesome \n",
      "\n",
      "28222 \n",
      " Thanks \n",
      "\n",
      "28606 \n",
      " freedom \n",
      "\n",
      "28613 \n",
      " THANKUS \n",
      "\n",
      "29155 \n",
      " thanks \n",
      "\n",
      "29773 \n",
      " Yayyy \n",
      "\n",
      "29978 \n",
      " chilling \n",
      "\n",
      "30585 \n",
      " thankyou \n",
      "\n",
      "33463 \n",
      " glee \n",
      "\n",
      "34846 \n",
      " Pacific… \n",
      "\n",
      "34847 \n",
      " Pacific… \n",
      "\n",
      "34912 \n",
      " Boom \n",
      "\n",
      "34917 \n",
      " Word \n",
      "\n",
      "35703 \n",
      " By \n",
      "\n",
      "35727 \n",
      " … \n",
      "\n",
      "35742 \n",
      " RealClearHealth \n",
      "\n",
      "35835 \n",
      " thank \n",
      "\n",
      "35987 \n",
      " chills🙌🏻🙌🏻🙌🏻 \n",
      "\n",
      "36729 \n",
      " Thanks \n",
      "\n",
      "36945 \n",
      " impeachment \n",
      "\n",
      "36949 \n",
      " … \n",
      "\n",
      "39245 \n",
      " agreed \n",
      "\n",
      "40006 \n",
      " suuure \n",
      "\n",
      "40400 \n",
      " roughnight \n",
      "\n",
      "40499 \n",
      " grrrrrrrrrrrrrrrrrrrrrrrr \n",
      "\n",
      "41450 \n",
      " Sigh \n",
      "\n",
      "41831 \n",
      " careless \n",
      "\n",
      "42127 \n",
      " Confuzzled \n",
      "\n",
      "42132 \n",
      " doesntfeelwell \n",
      "\n",
      "42401 \n",
      " boo \n",
      "\n",
      "43854 \n",
      " *hug* \n",
      "\n",
      "44994 \n",
      " awww \n",
      "\n",
      "45044 \n",
      " *hugs* \n",
      "\n",
      "45117 \n",
      " thanks \n",
      "\n",
      "45186 \n",
      " sucks \n",
      "\n",
      "45330 \n",
      " cool \n",
      "\n",
      "45404 \n",
      " Congrats \n",
      "\n",
      "45511 \n",
      " welcome \n",
      "\n",
      "49383 \n",
      " Headache \n",
      "\n",
      "50344 \n",
      " Damn \n",
      "\n",
      "50673 \n",
      " headache \n",
      "\n",
      "52130 \n",
      " yup \n",
      "\n",
      "52699 \n",
      " thanks \n",
      "\n",
      "52963 \n",
      " thanx \n",
      "\n",
      "53009 \n",
      " Anytime \n",
      "\n",
      "53205 \n",
      " THANKS \n",
      "\n",
      "54821 \n",
      " fuming \n",
      "\n",
      "54906 \n",
      " fuming \n",
      "\n"
     ]
    }
   ],
   "source": [
    "for i, sent in enumerate(all_df['sentence']):\n",
    "    if len(word_tokenize(sent)) <= 1:\n",
    "        print(i, '\\n', sent, '\\n')#, all_df_raw['sentence'].iloc[i] )"
   ]
  },
  {
   "cell_type": "code",
   "execution_count": 49,
   "metadata": {},
   "outputs": [
    {
     "data": {
      "text/plain": [
       "joy         15609\n",
       "fear        12874\n",
       "sadness     10241\n",
       "anger        5389\n",
       "love         3819\n",
       "surprise     3116\n",
       "disgust      1710\n",
       "shame        1096\n",
       "guilt        1093\n",
       "Name: label, dtype: int64"
      ]
     },
     "execution_count": 49,
     "metadata": {},
     "output_type": "execute_result"
    }
   ],
   "source": [
    "labels = list(all_df['label'].unique())\n",
    "all_df['label'].value_counts()"
   ]
  },
  {
   "cell_type": "code",
   "execution_count": 50,
   "metadata": {},
   "outputs": [],
   "source": [
    "from sklearn.model_selection import train_test_split"
   ]
  },
  {
   "cell_type": "code",
   "execution_count": 51,
   "metadata": {},
   "outputs": [],
   "source": [
    "train = []\n",
    "test = []\n",
    "for label in labels:\n",
    "    tran_temp, test_temp = train_test_split(all_df[all_df['label']==label], test_size=500, shuffle=True, stratify=all_df[all_df['label']==label]['source'])\n",
    "    train.append(tran_temp)\n",
    "    test.append(test_temp)"
   ]
  },
  {
   "cell_type": "code",
   "execution_count": 52,
   "metadata": {},
   "outputs": [],
   "source": [
    "train_df = pd.concat(train, ignore_index=True)\n",
    "test_df = pd.concat(test, ignore_index=True)"
   ]
  },
  {
   "cell_type": "code",
   "execution_count": 53,
   "metadata": {},
   "outputs": [
    {
     "data": {
      "text/plain": [
       "disgust     500\n",
       "shame       500\n",
       "love        500\n",
       "sadness     500\n",
       "anger       500\n",
       "joy         500\n",
       "surprise    500\n",
       "guilt       500\n",
       "fear        500\n",
       "Name: label, dtype: int64"
      ]
     },
     "execution_count": 53,
     "metadata": {},
     "output_type": "execute_result"
    }
   ],
   "source": [
    "test_df['label'].value_counts()"
   ]
  },
  {
   "cell_type": "code",
   "execution_count": 54,
   "metadata": {},
   "outputs": [
    {
     "data": {
      "text/plain": [
       "joy         15109\n",
       "fear        12374\n",
       "sadness      9741\n",
       "anger        4889\n",
       "love         3319\n",
       "surprise     2616\n",
       "disgust      1210\n",
       "shame         596\n",
       "guilt         593\n",
       "Name: label, dtype: int64"
      ]
     },
     "execution_count": 54,
     "metadata": {},
     "output_type": "execute_result"
    }
   ],
   "source": [
    "train_df['label'].value_counts()"
   ]
  },
  {
   "cell_type": "code",
   "execution_count": 55,
   "metadata": {},
   "outputs": [
    {
     "data": {
      "text/plain": [
       "(45432, 3)"
      ]
     },
     "execution_count": 55,
     "metadata": {},
     "output_type": "execute_result"
    }
   ],
   "source": [
    "train_0_labels = ['joy', 'fear', 'sadness','anger', 'love']\n",
    "train_0_df = train_df[train_df['label'].isin(train_0_labels)]\n",
    "train_0_df.shape"
   ]
  },
  {
   "cell_type": "code",
   "execution_count": 56,
   "metadata": {},
   "outputs": [],
   "source": [
    "noval_labels = ['surprise', 'disgust', 'shame', 'guilt']\n",
    "support_labels = ['joy', 'fear', 'sadness','anger', 'love']\n",
    "noval_df = test_df[test_df['label'].isin(noval_labels)]\n",
    "sup_df = test_df[test_df['label'].isin(support_labels)]"
   ]
  },
  {
   "cell_type": "code",
   "execution_count": 57,
   "metadata": {},
   "outputs": [
    {
     "data": {
      "text/plain": [
       "((2000, 3), (2500, 3))"
      ]
     },
     "execution_count": 57,
     "metadata": {},
     "output_type": "execute_result"
    }
   ],
   "source": [
    "noval_df.shape, sup_df.shape"
   ]
  },
  {
   "cell_type": "code",
   "execution_count": 58,
   "metadata": {},
   "outputs": [],
   "source": [
    "train_df.to_csv(root + 'train_full.csv', index=False)\n",
    "test_df.to_csv(root + 'test_full.csv', index=False)\n",
    "train_0_df.to_csv(root + 'train_0.csv', index=False)\n",
    "noval_df.to_csv(root + 'noval.csv', index=False)\n",
    "sup_df.to_csv(root + 'support.csv', index=False)"
   ]
  },
  {
   "cell_type": "code",
   "execution_count": 132,
   "metadata": {},
   "outputs": [],
   "source": [
    "# print('labels: ', ', '.join(all_df['label'].unique()))\n",
    "# print('source: ', ', '.join(all_df['source'].unique()))\n",
    "# print()\n",
    "# print('number of tweets: ', len(all_df[all_df['source']=='tweets']))\n",
    "# print(all_df[all_df['source']=='tweets']['label'].value_counts())\n",
    "# print()\n",
    "# print('number of fairytale_sentences: ', len(all_df[all_df['source']=='fairytale_sentences']))\n",
    "# print(all_df[all_df['source']=='fairytale_sentences']['label'].value_counts())\n",
    "# print()\n",
    "# print('number of artificial_sentences: ', len(all_df[all_df['source']=='artificial_sentences']))\n",
    "# print(all_df[all_df['source']=='artificial_sentences']['label'].value_counts())\n",
    "# print()\n",
    "# print('number of emotional_events: ', len(all_df[all_df['source']=='emotional_events']))\n",
    "# print(all_df[all_df['source']=='emotional_events']['label'].value_counts())\n",
    "# print()"
   ]
  },
  {
   "cell_type": "code",
   "execution_count": 129,
   "metadata": {},
   "outputs": [],
   "source": [
    "# \n",
    "# for label in labels:\n",
    "#     print(label)\n",
    "#     temp = all_df[all_df['label']==label]\n",
    "#     print('number of tweets: ', len(temp[temp['source']=='tweets']))\n",
    "#     print('number of fairytale_sentences: ', len(temp[temp['source']=='fairytale_sentences']))\n",
    "#     print('number of artificial_sentences: ', len(temp[temp['source']=='artificial_sentences']))\n",
    "#     print('number of emotional_events: ', len(temp[temp['source']=='emotional_events']))\n",
    "#     print()"
   ]
  },
  {
   "cell_type": "markdown",
   "metadata": {},
   "source": [
    "### class label processing"
   ]
  },
  {
   "cell_type": "code",
   "execution_count": 60,
   "metadata": {},
   "outputs": [],
   "source": [
    "from torchnlp.word_to_vector import GloVe\n",
    "glove_embedder = GloVe(name='42B', cache='./cache') "
   ]
  },
  {
   "cell_type": "code",
   "execution_count": 62,
   "metadata": {},
   "outputs": [],
   "source": [
    "labels = np.sort(all_df['label'].unique())"
   ]
  },
  {
   "cell_type": "code",
   "execution_count": 63,
   "metadata": {},
   "outputs": [
    {
     "name": "stdout",
     "output_type": "stream",
     "text": [
      "{'anger': 0, 'disgust': 1, 'fear': 2, 'guilt': 3, 'joy': 4, 'love': 5, 'sadness': 6, 'shame': 7, 'surprise': 8}\n",
      "{0: 'anger', 1: 'disgust', 2: 'fear', 3: 'guilt', 4: 'joy', 5: 'love', 6: 'sadness', 7: 'shame', 8: 'surprise'}\n"
     ]
    }
   ],
   "source": [
    "label2idx = {}\n",
    "for i in range(len(labels)):\n",
    "    label2idx[labels[i]] = i\n",
    "print(label2idx)\n",
    "\n",
    "idx2label = {}\n",
    "for i in range(len(labels)):\n",
    "    idx2label[i] = labels[i]\n",
    "print(idx2label)"
   ]
  },
  {
   "cell_type": "markdown",
   "metadata": {},
   "source": [
    "## store class label index"
   ]
  },
  {
   "cell_type": "code",
   "execution_count": 63,
   "metadata": {},
   "outputs": [],
   "source": [
    "import pickle"
   ]
  },
  {
   "cell_type": "code",
   "execution_count": 64,
   "metadata": {},
   "outputs": [],
   "source": [
    "file = open(root + \"idx2label.pkl\", \"wb\")\n",
    "pickle.dump(idx2label, file)\n",
    "file.close()"
   ]
  },
  {
   "cell_type": "code",
   "execution_count": 65,
   "metadata": {},
   "outputs": [],
   "source": [
    "file = open(root + \"label2idx.pkl\", \"wb\")\n",
    "pickle.dump(label2idx, file)\n",
    "file.close()"
   ]
  },
  {
   "cell_type": "markdown",
   "metadata": {},
   "source": [
    "## get label embedding"
   ]
  },
  {
   "cell_type": "code",
   "execution_count": 125,
   "metadata": {},
   "outputs": [],
   "source": [
    "label_vec = []\n",
    "for i in labels:\n",
    "    label_vec.append(glove_embedder[i])\n",
    "label_vec = np.array([i.numpy() for i in label_vec])"
   ]
  },
  {
   "cell_type": "code",
   "execution_count": 67,
   "metadata": {},
   "outputs": [],
   "source": [
    "file = open(root + \"labelvec.pkl\", \"wb\")\n",
    "pickle.dump(vec, file)\n",
    "file.close()"
   ]
  },
  {
   "cell_type": "markdown",
   "metadata": {},
   "source": [
    "## examine label vectors "
   ]
  },
  {
   "cell_type": "code",
   "execution_count": 68,
   "metadata": {},
   "outputs": [
    {
     "data": {
      "text/plain": [
       "9"
      ]
     },
     "execution_count": 68,
     "metadata": {},
     "output_type": "execute_result"
    }
   ],
   "source": [
    "len(label_vec)"
   ]
  },
  {
   "cell_type": "code",
   "execution_count": 113,
   "metadata": {},
   "outputs": [],
   "source": [
    "m = np.zeros((len(label_vec),len(label_vec)))\n",
    "for i in range(len(label_vec)):\n",
    "    for j in range(len(label_vec)):\n",
    "        m[i,j] += np.linalg.norm(label_vec[i]-label_vec[j])\n",
    "m = np.around(m, 2)"
   ]
  },
  {
   "cell_type": "code",
   "execution_count": 114,
   "metadata": {},
   "outputs": [],
   "source": [
    "labels = list(label2idx.keys())\n",
    "l2_m = pd.DataFrame(m, columns=labels, index=labels)"
   ]
  },
  {
   "cell_type": "code",
   "execution_count": 117,
   "metadata": {},
   "outputs": [
    {
     "data": {
      "text/plain": [
       "Text(0.5,42,'Predicted label')"
      ]
     },
     "execution_count": 117,
     "metadata": {},
     "output_type": "execute_result"
    },
    {
     "data": {
      "image/png": "[encoded data removed]",
      "text/plain": [
       "<Figure size 720x504 with 2 Axes>"
      ]
     },
     "metadata": {
      "needs_background": "light"
     },
     "output_type": "display_data"
    }
   ],
   "source": [
    "import seaborn as sn\n",
    "import matplotlib.pyplot as plt\n",
    "\n",
    "plt.figure(figsize = (10,7))\n",
    "sn.heatmap(l2_m, annot=True, cmap='Blues')\n",
    "plt.ylabel('True Label')\n",
    "plt.xlabel('Predicted label')"
   ]
  },
  {
   "cell_type": "code",
   "execution_count": 126,
   "metadata": {},
   "outputs": [
    {
     "data": {
      "text/plain": [
       "(9, 2)"
      ]
     },
     "execution_count": 126,
     "metadata": {},
     "output_type": "execute_result"
    }
   ],
   "source": [
    "from sklearn.manifold import TSNE\n",
    "X_embedded = TSNE(n_components=2).fit_transform(np.array(label_vec))\n",
    "X_embedded.shape"
   ]
  },
  {
   "cell_type": "code",
   "execution_count": 128,
   "metadata": {},
   "outputs": [
    {
     "data": {
      "image/png": "[encoded data removed]",
      "text/plain": [
       "<Figure size 432x288 with 1 Axes>"
      ]
     },
     "metadata": {
      "needs_background": "light"
     },
     "output_type": "display_data"
    }
   ],
   "source": [
    "ig, ax = plt.subplots()\n",
    "ax.scatter(X_embedded[:,0], X_embedded[:, 1])\n",
    "\n",
    "for i, label in enumerate(labels):\n",
    "    ax.annotate(label, (X_embedded[i,0], X_embedded[i, 1]))"
   ]
  },
  {
   "cell_type": "markdown",
   "metadata": {},
   "source": [
    "## Transform sentence to sentence vectors by s-bert"
   ]
  },
  {
   "cell_type": "code",
   "execution_count": 59,
   "metadata": {
    "collapsed": true,
    "jupyter": {
     "outputs_hidden": true
    }
   },
   "outputs": [
    {
     "name": "stderr",
     "output_type": "stream",
     "text": [
      "/home/data/ysunbc/anaconda3/envs/yusen/lib/python3.6/site-packages/tensorflow/python/framework/dtypes.py:516: FutureWarning: Passing (type, 1) or '1type' as a synonym of type is deprecated; in a future version of numpy, it will be understood as (type, (1,)) / '(1,)type'.\n",
      "  _np_qint8 = np.dtype([(\"qint8\", np.int8, 1)])\n",
      "/home/data/ysunbc/anaconda3/envs/yusen/lib/python3.6/site-packages/tensorflow/python/framework/dtypes.py:517: FutureWarning: Passing (type, 1) or '1type' as a synonym of type is deprecated; in a future version of numpy, it will be understood as (type, (1,)) / '(1,)type'.\n",
      "  _np_quint8 = np.dtype([(\"quint8\", np.uint8, 1)])\n",
      "/home/data/ysunbc/anaconda3/envs/yusen/lib/python3.6/site-packages/tensorflow/python/framework/dtypes.py:518: FutureWarning: Passing (type, 1) or '1type' as a synonym of type is deprecated; in a future version of numpy, it will be understood as (type, (1,)) / '(1,)type'.\n",
      "  _np_qint16 = np.dtype([(\"qint16\", np.int16, 1)])\n",
      "/home/data/ysunbc/anaconda3/envs/yusen/lib/python3.6/site-packages/tensorflow/python/framework/dtypes.py:519: FutureWarning: Passing (type, 1) or '1type' as a synonym of type is deprecated; in a future version of numpy, it will be understood as (type, (1,)) / '(1,)type'.\n",
      "  _np_quint16 = np.dtype([(\"quint16\", np.uint16, 1)])\n",
      "/home/data/ysunbc/anaconda3/envs/yusen/lib/python3.6/site-packages/tensorflow/python/framework/dtypes.py:520: FutureWarning: Passing (type, 1) or '1type' as a synonym of type is deprecated; in a future version of numpy, it will be understood as (type, (1,)) / '(1,)type'.\n",
      "  _np_qint32 = np.dtype([(\"qint32\", np.int32, 1)])\n",
      "/home/data/ysunbc/anaconda3/envs/yusen/lib/python3.6/site-packages/tensorflow/python/framework/dtypes.py:525: FutureWarning: Passing (type, 1) or '1type' as a synonym of type is deprecated; in a future version of numpy, it will be understood as (type, (1,)) / '(1,)type'.\n",
      "  np_resource = np.dtype([(\"resource\", np.ubyte, 1)])\n",
      "/home/data/ysunbc/anaconda3/envs/yusen/lib/python3.6/site-packages/tensorboard/compat/tensorflow_stub/dtypes.py:541: FutureWarning: Passing (type, 1) or '1type' as a synonym of type is deprecated; in a future version of numpy, it will be understood as (type, (1,)) / '(1,)type'.\n",
      "  _np_qint8 = np.dtype([(\"qint8\", np.int8, 1)])\n",
      "/home/data/ysunbc/anaconda3/envs/yusen/lib/python3.6/site-packages/tensorboard/compat/tensorflow_stub/dtypes.py:542: FutureWarning: Passing (type, 1) or '1type' as a synonym of type is deprecated; in a future version of numpy, it will be understood as (type, (1,)) / '(1,)type'.\n",
      "  _np_quint8 = np.dtype([(\"quint8\", np.uint8, 1)])\n",
      "/home/data/ysunbc/anaconda3/envs/yusen/lib/python3.6/site-packages/tensorboard/compat/tensorflow_stub/dtypes.py:543: FutureWarning: Passing (type, 1) or '1type' as a synonym of type is deprecated; in a future version of numpy, it will be understood as (type, (1,)) / '(1,)type'.\n",
      "  _np_qint16 = np.dtype([(\"qint16\", np.int16, 1)])\n",
      "/home/data/ysunbc/anaconda3/envs/yusen/lib/python3.6/site-packages/tensorboard/compat/tensorflow_stub/dtypes.py:544: FutureWarning: Passing (type, 1) or '1type' as a synonym of type is deprecated; in a future version of numpy, it will be understood as (type, (1,)) / '(1,)type'.\n",
      "  _np_quint16 = np.dtype([(\"quint16\", np.uint16, 1)])\n",
      "/home/data/ysunbc/anaconda3/envs/yusen/lib/python3.6/site-packages/tensorboard/compat/tensorflow_stub/dtypes.py:545: FutureWarning: Passing (type, 1) or '1type' as a synonym of type is deprecated; in a future version of numpy, it will be understood as (type, (1,)) / '(1,)type'.\n",
      "  _np_qint32 = np.dtype([(\"qint32\", np.int32, 1)])\n",
      "/home/data/ysunbc/anaconda3/envs/yusen/lib/python3.6/site-packages/tensorboard/compat/tensorflow_stub/dtypes.py:550: FutureWarning: Passing (type, 1) or '1type' as a synonym of type is deprecated; in a future version of numpy, it will be understood as (type, (1,)) / '(1,)type'.\n",
      "  np_resource = np.dtype([(\"resource\", np.ubyte, 1)])\n"
     ]
    }
   ],
   "source": [
    "from sentence_transformers import SentenceTransformer\n",
    "model = SentenceTransformer('bert-base-nli-mean-tokens')"
   ]
  },
  {
   "cell_type": "code",
   "execution_count": 60,
   "metadata": {},
   "outputs": [
    {
     "name": "stderr",
     "output_type": "stream",
     "text": [
      "Batches: 100%|██████████| 6306/6306 [05:56<00:00, 17.68it/s]\n",
      "Batches: 100%|██████████| 563/563 [00:32<00:00, 17.29it/s]\n",
      "Batches: 100%|██████████| 5679/5679 [05:53<00:00, 16.06it/s]\n",
      "Batches: 100%|██████████| 313/313 [00:11<00:00, 26.12it/s]\n",
      "Batches: 100%|██████████| 250/250 [00:20<00:00, 12.16it/s]\n"
     ]
    }
   ],
   "source": [
    "train_vec = model.encode(list(train_df['sentence']), show_progress_bar=True)\n",
    "test_vec = model.encode(list(test_df['sentence']), show_progress_bar=True)\n",
    "train_0_vec = model.encode(list(train_0_df['sentence']), show_progress_bar=True)\n",
    "sup_vec = model.encode(list(sup_df['sentence']), show_progress_bar=True)\n",
    "noval_vec = model.encode(list(noval_df['sentence']), show_progress_bar=True)\n"
   ]
  },
  {
   "cell_type": "markdown",
   "metadata": {},
   "source": [
    "## Save sentence vector to pickle file"
   ]
  },
  {
   "cell_type": "code",
   "execution_count": 64,
   "metadata": {},
   "outputs": [],
   "source": [
    "train = pd.DataFrame({'label':[label2idx[i] for i in train_df['label']], 'sentvec':train_vec})\n",
    "test = pd.DataFrame({'label':[label2idx[i] for i in test_df['label']], 'sentvec':test_vec})\n",
    "train0 = pd.DataFrame({'label':[label2idx[i] for i in train_0_df['label']], 'sentvec':train_0_vec})\n",
    "sup = pd.DataFrame({'label':[label2idx[i] for i in sup_df['label']], 'sentvec':sup_vec})\n",
    "noval = pd.DataFrame({'label':[label2idx[i] for i in noval_df['label']], 'sentvec':noval_vec})"
   ]
  },
  {
   "cell_type": "code",
   "execution_count": 65,
   "metadata": {},
   "outputs": [],
   "source": [
    "train.to_pickle(root + \"train_full.pkl\")\n",
    "test.to_pickle(root + \"test_full.pkl\")\n",
    "train0.to_pickle(root + \"train_0.pkl\")\n",
    "sup.to_pickle(root + \"support.pkl\")\n",
    "noval.to_pickle(root + \"noval.pkl\")"
   ]
  },
  {
   "cell_type": "code",
   "execution_count": null,
   "metadata": {},
   "outputs": [],
   "source": []
  }
 ],
 "metadata": {
  "kernelspec": {
   "display_name": "Python 3",
   "language": "python",
   "name": "python3"
  },
  "language_info": {
   "codemirror_mode": {
    "name": "ipython",
    "version": 3
   },
   "file_extension": ".py",
   "mimetype": "text/x-python",
   "name": "python",
   "nbconvert_exporter": "python",
   "pygments_lexer": "ipython3",
   "version": "3.6.9"
  }
 },
 "nbformat": 4,
 "nbformat_minor": 4
}
